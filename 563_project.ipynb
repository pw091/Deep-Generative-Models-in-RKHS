{
 "cells": [
  {
   "cell_type": "code",
   "execution_count": 30,
   "metadata": {},
   "outputs": [],
   "source": [
    "#general imports\n",
    "import numpy as np\n",
    "#import autograd.numpy as np #to support SGD implementation\n",
    "import matplotlib.pyplot as plt\n",
    "import time\n",
    "import pandas as pd"
   ]
  },
  {
   "attachments": {},
   "cell_type": "markdown",
   "metadata": {},
   "source": [
    "MNIST Data"
   ]
  },
  {
   "cell_type": "code",
   "execution_count": 31,
   "metadata": {},
   "outputs": [],
   "source": [
    "train_path = '/home/wpm/Documents/UW/Spring_2023/AMATH_563/HW/HW2/code/MNIST/mnist_train.csv'\n",
    "test_path = '/home/wpm/Documents/UW/Spring_2023/AMATH_563/HW/HW2/code/MNIST/mnist_test.csv'"
   ]
  },
  {
   "attachments": {},
   "cell_type": "markdown",
   "metadata": {},
   "source": [
    "Kernel MMD Generator"
   ]
  },
  {
   "cell_type": "code",
   "execution_count": 32,
   "metadata": {},
   "outputs": [],
   "source": [
    "#Imports for MMD model\n",
    "from scipy.optimize import minimize"
   ]
  },
  {
   "cell_type": "code",
   "execution_count": 33,
   "metadata": {},
   "outputs": [],
   "source": [
    "#Data Processing\n",
    "def csv_to_matrix(path: str):\n",
    "    '''\n",
    "    Turns csv filepath string of Hw2 data into X,y arrays\n",
    "    '''\n",
    "    df = pd.read_csv(path)\n",
    "    #X = df.iloc[:,1:] #all rows\n",
    "    #y = df.iloc[:,0] #all rows\n",
    "    X = df.iloc[:100,1:] #small sample\n",
    "    y = df.iloc[:100,0] #small sample\n",
    "    return np.array(X), np.array(y)"
   ]
  },
  {
   "cell_type": "code",
   "execution_count": 34,
   "metadata": {},
   "outputs": [],
   "source": [
    "#Kernels\n",
    "def generate_kern_matrix(X, Y, kern_func):\n",
    "    '''\n",
    "    Creates K(X,Y) for specific kernel function (\"Y\" is a data matrix, not labels)\n",
    "    '''\n",
    "    n = X.shape[0]\n",
    "    m = Y.shape[0]\n",
    "    K = np.zeros((n, m))\n",
    "    for i in range(n):\n",
    "        for j in range(m):\n",
    "            K[i, j] = kern_func(X[i], Y[j])\n",
    "    return K\n",
    "\n",
    "def gaussian_kernel(x, y, sigma=1.0):\n",
    "    '''\n",
    "    Gaussian kernel function (defined on vectors; can be used for both scalar and operator kernels)\n",
    "    '''\n",
    "    return np.exp(-np.linalg.norm(x-y)**2 / (2 * sigma**2))"
   ]
  },
  {
   "cell_type": "code",
   "execution_count": 35,
   "metadata": {},
   "outputs": [],
   "source": [
    "#Loss\n",
    "def kern_sum(X1,X2,kern_func):\n",
    "    '''\n",
    "    Helper func for mmd\n",
    "    '''\n",
    "    n = X1.shape[0]\n",
    "    m = X2.shape[0]\n",
    "    return (1/n)*(1/m)*sum( [sum( [kern_func(X1[i],X2[j]) for i in range(n)]) for j in range(m)] )\n",
    "\n",
    "def mmd(X1,X2,kern_func):\n",
    "    '''\n",
    "    Scalar kernel MMD portion of the loss\n",
    "    '''\n",
    "    X1_norm = kern_sum(X1,X1,kern_func)\n",
    "    X2_norm = kern_sum(X2,X2,kern_func)\n",
    "    cross_norm = kern_sum(X1,X2,kern_func)\n",
    "    return X1_norm+X2_norm-2*cross_norm\n",
    "\n",
    "def regularizer(lam,Z,Q_inv):\n",
    "    '''\n",
    "    The operator-kernel regularizer\n",
    "    '''\n",
    "    d = Z.shape[1]\n",
    "    return lam * sum( [ Z[:,j]@Q_inv@Z[:,j].T for j in range(d) ] )\n",
    "\n",
    "def loss(Z_flat,y,kern_func,lam,Q_inv,shape):\n",
    "    '''\n",
    "    Precise loss (no autograd/SGD)\n",
    "    '''\n",
    "    Z = Z_flat.reshape(shape)\n",
    "    return mmd(Z,y,kern_func) + regularizer(lam,Z,Q_inv)"
   ]
  },
  {
   "cell_type": "code",
   "execution_count": 36,
   "metadata": {},
   "outputs": [],
   "source": [
    "def sample_generator(Xte,Xtr,Q_inv,Z,d):\n",
    "    '''\n",
    "    Generate samples from latent space (send them through the map)\n",
    "    '''\n",
    "    Q_test = generate_kern_matrix(Xte,Xtr,gaussian_kernel)\n",
    "    T = [Q_test @ Q_inv @ Z[:,j].T for j in range(d)]\n",
    "    return np.array(T) #might need to be transposed"
   ]
  },
  {
   "cell_type": "code",
   "execution_count": 37,
   "metadata": {},
   "outputs": [
    {
     "name": "stdout",
     "output_type": "stream",
     "text": [
      "Generating kernel matrix\n",
      "Inverting said matrix\n",
      "K(X,X) inverted\n"
     ]
    }
   ],
   "source": [
    "from sklearn.decomposition import PCA\n",
    "#Implementation\n",
    "LAM=0.01 #lambda for regularizer\n",
    "\n",
    "#Datasets\n",
    "Xtr,ytr = csv_to_matrix(train_path) #trainset\n",
    "Xte,yte = csv_to_matrix(test_path) #testset\n",
    "\n",
    "#Dim redux\n",
    "pca = PCA(n_components=10)\n",
    "Xtr = pca.fit_transform(Xtr)\n",
    "Xte = pca.transform(Xte)\n",
    "n,d = Xtr.shape #cached dimensions\n",
    "\n",
    "#Op kernel (Gaussian)\n",
    "print('Generating kernel matrix')\n",
    "Q = generate_kern_matrix(Xtr, Xtr, gaussian_kernel)\n",
    "print('Inverting said matrix')\n",
    "Q_inv = np.linalg.inv(Q)\n",
    "print('K(X,X) inverted')"
   ]
  },
  {
   "cell_type": "code",
   "execution_count": 39,
   "metadata": {},
   "outputs": [
    {
     "name": "stdout",
     "output_type": "stream",
     "text": [
      "Optimizing Z\n"
     ]
    },
    {
     "ename": "KeyboardInterrupt",
     "evalue": "",
     "output_type": "error",
     "traceback": [
      "\u001b[0;31m---------------------------------------------------------------------------\u001b[0m",
      "\u001b[0;31mKeyboardInterrupt\u001b[0m                         Traceback (most recent call last)",
      "Cell \u001b[0;32mIn[39], line 5\u001b[0m\n\u001b[1;32m      3\u001b[0m X0 \u001b[39m=\u001b[39m np\u001b[39m.\u001b[39mones((n,d))\n\u001b[1;32m      4\u001b[0m X0_flat \u001b[39m=\u001b[39m X0\u001b[39m.\u001b[39mflatten()\n\u001b[0;32m----> 5\u001b[0m Z_argmin_flat \u001b[39m=\u001b[39m minimize(loss, X0_flat, args\u001b[39m=\u001b[39;49m(ytr, gaussian_kernel, LAM, Q_inv, (n,d))) \u001b[39m#MMD kernel also Guassian\u001b[39;00m\n\u001b[1;32m      6\u001b[0m Z_star \u001b[39m=\u001b[39m Z_argmin_flat\u001b[39m.\u001b[39mx\u001b[39m.\u001b[39mreshape((n,d))\n",
      "File \u001b[0;32m~/.pyenv/versions/3.11.3/envs/venv-ml/lib/python3.11/site-packages/scipy/optimize/_minimize.py:691\u001b[0m, in \u001b[0;36mminimize\u001b[0;34m(fun, x0, args, method, jac, hess, hessp, bounds, constraints, tol, callback, options)\u001b[0m\n\u001b[1;32m    689\u001b[0m     res \u001b[39m=\u001b[39m _minimize_cg(fun, x0, args, jac, callback, \u001b[39m*\u001b[39m\u001b[39m*\u001b[39moptions)\n\u001b[1;32m    690\u001b[0m \u001b[39melif\u001b[39;00m meth \u001b[39m==\u001b[39m \u001b[39m'\u001b[39m\u001b[39mbfgs\u001b[39m\u001b[39m'\u001b[39m:\n\u001b[0;32m--> 691\u001b[0m     res \u001b[39m=\u001b[39m _minimize_bfgs(fun, x0, args, jac, callback, \u001b[39m*\u001b[39;49m\u001b[39m*\u001b[39;49moptions)\n\u001b[1;32m    692\u001b[0m \u001b[39melif\u001b[39;00m meth \u001b[39m==\u001b[39m \u001b[39m'\u001b[39m\u001b[39mnewton-cg\u001b[39m\u001b[39m'\u001b[39m:\n\u001b[1;32m    693\u001b[0m     res \u001b[39m=\u001b[39m _minimize_newtoncg(fun, x0, args, jac, hess, hessp, callback,\n\u001b[1;32m    694\u001b[0m                              \u001b[39m*\u001b[39m\u001b[39m*\u001b[39moptions)\n",
      "File \u001b[0;32m~/.pyenv/versions/3.11.3/envs/venv-ml/lib/python3.11/site-packages/scipy/optimize/_optimize.py:1388\u001b[0m, in \u001b[0;36m_minimize_bfgs\u001b[0;34m(fun, x0, args, jac, callback, gtol, norm, eps, maxiter, disp, return_all, finite_diff_rel_step, xrtol, **unknown_options)\u001b[0m\n\u001b[1;32m   1385\u001b[0m pk \u001b[39m=\u001b[39m \u001b[39m-\u001b[39mnp\u001b[39m.\u001b[39mdot(Hk, gfk)\n\u001b[1;32m   1386\u001b[0m \u001b[39mtry\u001b[39;00m:\n\u001b[1;32m   1387\u001b[0m     alpha_k, fc, gc, old_fval, old_old_fval, gfkp1 \u001b[39m=\u001b[39m \\\n\u001b[0;32m-> 1388\u001b[0m              _line_search_wolfe12(f, myfprime, xk, pk, gfk,\n\u001b[1;32m   1389\u001b[0m                                   old_fval, old_old_fval, amin\u001b[39m=\u001b[39;49m\u001b[39m1e-100\u001b[39;49m, amax\u001b[39m=\u001b[39;49m\u001b[39m1e100\u001b[39;49m)\n\u001b[1;32m   1390\u001b[0m \u001b[39mexcept\u001b[39;00m _LineSearchError:\n\u001b[1;32m   1391\u001b[0m     \u001b[39m# Line search failed to find a better solution.\u001b[39;00m\n\u001b[1;32m   1392\u001b[0m     warnflag \u001b[39m=\u001b[39m \u001b[39m2\u001b[39m\n",
      "File \u001b[0;32m~/.pyenv/versions/3.11.3/envs/venv-ml/lib/python3.11/site-packages/scipy/optimize/_optimize.py:1160\u001b[0m, in \u001b[0;36m_line_search_wolfe12\u001b[0;34m(f, fprime, xk, pk, gfk, old_fval, old_old_fval, **kwargs)\u001b[0m\n\u001b[1;32m   1146\u001b[0m \u001b[39m\u001b[39m\u001b[39m\"\"\"\u001b[39;00m\n\u001b[1;32m   1147\u001b[0m \u001b[39mSame as line_search_wolfe1, but fall back to line_search_wolfe2 if\u001b[39;00m\n\u001b[1;32m   1148\u001b[0m \u001b[39msuitable step length is not found, and raise an exception if a\u001b[39;00m\n\u001b[0;32m   (...)\u001b[0m\n\u001b[1;32m   1155\u001b[0m \n\u001b[1;32m   1156\u001b[0m \u001b[39m\"\"\"\u001b[39;00m\n\u001b[1;32m   1158\u001b[0m extra_condition \u001b[39m=\u001b[39m kwargs\u001b[39m.\u001b[39mpop(\u001b[39m'\u001b[39m\u001b[39mextra_condition\u001b[39m\u001b[39m'\u001b[39m, \u001b[39mNone\u001b[39;00m)\n\u001b[0;32m-> 1160\u001b[0m ret \u001b[39m=\u001b[39m line_search_wolfe1(f, fprime, xk, pk, gfk,\n\u001b[1;32m   1161\u001b[0m                          old_fval, old_old_fval,\n\u001b[1;32m   1162\u001b[0m                          \u001b[39m*\u001b[39;49m\u001b[39m*\u001b[39;49mkwargs)\n\u001b[1;32m   1164\u001b[0m \u001b[39mif\u001b[39;00m ret[\u001b[39m0\u001b[39m] \u001b[39mis\u001b[39;00m \u001b[39mnot\u001b[39;00m \u001b[39mNone\u001b[39;00m \u001b[39mand\u001b[39;00m extra_condition \u001b[39mis\u001b[39;00m \u001b[39mnot\u001b[39;00m \u001b[39mNone\u001b[39;00m:\n\u001b[1;32m   1165\u001b[0m     xp1 \u001b[39m=\u001b[39m xk \u001b[39m+\u001b[39m ret[\u001b[39m0\u001b[39m] \u001b[39m*\u001b[39m pk\n",
      "File \u001b[0;32m~/.pyenv/versions/3.11.3/envs/venv-ml/lib/python3.11/site-packages/scipy/optimize/_linesearch.py:84\u001b[0m, in \u001b[0;36mline_search_wolfe1\u001b[0;34m(f, fprime, xk, pk, gfk, old_fval, old_old_fval, args, c1, c2, amax, amin, xtol)\u001b[0m\n\u001b[1;32m     80\u001b[0m     \u001b[39mreturn\u001b[39;00m np\u001b[39m.\u001b[39mdot(gval[\u001b[39m0\u001b[39m], pk)\n\u001b[1;32m     82\u001b[0m derphi0 \u001b[39m=\u001b[39m np\u001b[39m.\u001b[39mdot(gfk, pk)\n\u001b[0;32m---> 84\u001b[0m stp, fval, old_fval \u001b[39m=\u001b[39m scalar_search_wolfe1(\n\u001b[1;32m     85\u001b[0m         phi, derphi, old_fval, old_old_fval, derphi0,\n\u001b[1;32m     86\u001b[0m         c1\u001b[39m=\u001b[39;49mc1, c2\u001b[39m=\u001b[39;49mc2, amax\u001b[39m=\u001b[39;49mamax, amin\u001b[39m=\u001b[39;49mamin, xtol\u001b[39m=\u001b[39;49mxtol)\n\u001b[1;32m     88\u001b[0m \u001b[39mreturn\u001b[39;00m stp, fc[\u001b[39m0\u001b[39m], gc[\u001b[39m0\u001b[39m], fval, old_fval, gval[\u001b[39m0\u001b[39m]\n",
      "File \u001b[0;32m~/.pyenv/versions/3.11.3/envs/venv-ml/lib/python3.11/site-packages/scipy/optimize/_linesearch.py:161\u001b[0m, in \u001b[0;36mscalar_search_wolfe1\u001b[0;34m(phi, derphi, phi0, old_phi0, derphi0, c1, c2, amax, amin, xtol)\u001b[0m\n\u001b[1;32m    159\u001b[0m     alpha1 \u001b[39m=\u001b[39m stp\n\u001b[1;32m    160\u001b[0m     phi1 \u001b[39m=\u001b[39m phi(stp)\n\u001b[0;32m--> 161\u001b[0m     derphi1 \u001b[39m=\u001b[39m derphi(stp)\n\u001b[1;32m    162\u001b[0m \u001b[39melse\u001b[39;00m:\n\u001b[1;32m    163\u001b[0m     \u001b[39mbreak\u001b[39;00m\n",
      "File \u001b[0;32m~/.pyenv/versions/3.11.3/envs/venv-ml/lib/python3.11/site-packages/scipy/optimize/_linesearch.py:78\u001b[0m, in \u001b[0;36mline_search_wolfe1.<locals>.derphi\u001b[0;34m(s)\u001b[0m\n\u001b[1;32m     77\u001b[0m \u001b[39mdef\u001b[39;00m \u001b[39mderphi\u001b[39m(s):\n\u001b[0;32m---> 78\u001b[0m     gval[\u001b[39m0\u001b[39m] \u001b[39m=\u001b[39m fprime(xk \u001b[39m+\u001b[39;49m s\u001b[39m*\u001b[39;49mpk, \u001b[39m*\u001b[39;49margs)\n\u001b[1;32m     79\u001b[0m     gc[\u001b[39m0\u001b[39m] \u001b[39m+\u001b[39m\u001b[39m=\u001b[39m \u001b[39m1\u001b[39m\n\u001b[1;32m     80\u001b[0m     \u001b[39mreturn\u001b[39;00m np\u001b[39m.\u001b[39mdot(gval[\u001b[39m0\u001b[39m], pk)\n",
      "File \u001b[0;32m~/.pyenv/versions/3.11.3/envs/venv-ml/lib/python3.11/site-packages/scipy/optimize/_differentiable_functions.py:273\u001b[0m, in \u001b[0;36mScalarFunction.grad\u001b[0;34m(self, x)\u001b[0m\n\u001b[1;32m    271\u001b[0m \u001b[39mif\u001b[39;00m \u001b[39mnot\u001b[39;00m np\u001b[39m.\u001b[39marray_equal(x, \u001b[39mself\u001b[39m\u001b[39m.\u001b[39mx):\n\u001b[1;32m    272\u001b[0m     \u001b[39mself\u001b[39m\u001b[39m.\u001b[39m_update_x_impl(x)\n\u001b[0;32m--> 273\u001b[0m \u001b[39mself\u001b[39;49m\u001b[39m.\u001b[39;49m_update_grad()\n\u001b[1;32m    274\u001b[0m \u001b[39mreturn\u001b[39;00m \u001b[39mself\u001b[39m\u001b[39m.\u001b[39mg\n",
      "File \u001b[0;32m~/.pyenv/versions/3.11.3/envs/venv-ml/lib/python3.11/site-packages/scipy/optimize/_differentiable_functions.py:256\u001b[0m, in \u001b[0;36mScalarFunction._update_grad\u001b[0;34m(self)\u001b[0m\n\u001b[1;32m    254\u001b[0m \u001b[39mdef\u001b[39;00m \u001b[39m_update_grad\u001b[39m(\u001b[39mself\u001b[39m):\n\u001b[1;32m    255\u001b[0m     \u001b[39mif\u001b[39;00m \u001b[39mnot\u001b[39;00m \u001b[39mself\u001b[39m\u001b[39m.\u001b[39mg_updated:\n\u001b[0;32m--> 256\u001b[0m         \u001b[39mself\u001b[39;49m\u001b[39m.\u001b[39;49m_update_grad_impl()\n\u001b[1;32m    257\u001b[0m         \u001b[39mself\u001b[39m\u001b[39m.\u001b[39mg_updated \u001b[39m=\u001b[39m \u001b[39mTrue\u001b[39;00m\n",
      "File \u001b[0;32m~/.pyenv/versions/3.11.3/envs/venv-ml/lib/python3.11/site-packages/scipy/optimize/_differentiable_functions.py:173\u001b[0m, in \u001b[0;36mScalarFunction.__init__.<locals>.update_grad\u001b[0;34m()\u001b[0m\n\u001b[1;32m    171\u001b[0m \u001b[39mself\u001b[39m\u001b[39m.\u001b[39m_update_fun()\n\u001b[1;32m    172\u001b[0m \u001b[39mself\u001b[39m\u001b[39m.\u001b[39mngev \u001b[39m+\u001b[39m\u001b[39m=\u001b[39m \u001b[39m1\u001b[39m\n\u001b[0;32m--> 173\u001b[0m \u001b[39mself\u001b[39m\u001b[39m.\u001b[39mg \u001b[39m=\u001b[39m approx_derivative(fun_wrapped, \u001b[39mself\u001b[39;49m\u001b[39m.\u001b[39;49mx, f0\u001b[39m=\u001b[39;49m\u001b[39mself\u001b[39;49m\u001b[39m.\u001b[39;49mf,\n\u001b[1;32m    174\u001b[0m                            \u001b[39m*\u001b[39;49m\u001b[39m*\u001b[39;49mfinite_diff_options)\n",
      "File \u001b[0;32m~/.pyenv/versions/3.11.3/envs/venv-ml/lib/python3.11/site-packages/scipy/optimize/_numdiff.py:505\u001b[0m, in \u001b[0;36mapprox_derivative\u001b[0;34m(fun, x0, method, rel_step, abs_step, f0, bounds, sparsity, as_linear_operator, args, kwargs)\u001b[0m\n\u001b[1;32m    502\u001b[0m     use_one_sided \u001b[39m=\u001b[39m \u001b[39mFalse\u001b[39;00m\n\u001b[1;32m    504\u001b[0m \u001b[39mif\u001b[39;00m sparsity \u001b[39mis\u001b[39;00m \u001b[39mNone\u001b[39;00m:\n\u001b[0;32m--> 505\u001b[0m     \u001b[39mreturn\u001b[39;00m _dense_difference(fun_wrapped, x0, f0, h,\n\u001b[1;32m    506\u001b[0m                              use_one_sided, method)\n\u001b[1;32m    507\u001b[0m \u001b[39melse\u001b[39;00m:\n\u001b[1;32m    508\u001b[0m     \u001b[39mif\u001b[39;00m \u001b[39mnot\u001b[39;00m issparse(sparsity) \u001b[39mand\u001b[39;00m \u001b[39mlen\u001b[39m(sparsity) \u001b[39m==\u001b[39m \u001b[39m2\u001b[39m:\n",
      "File \u001b[0;32m~/.pyenv/versions/3.11.3/envs/venv-ml/lib/python3.11/site-packages/scipy/optimize/_numdiff.py:576\u001b[0m, in \u001b[0;36m_dense_difference\u001b[0;34m(fun, x0, f0, h, use_one_sided, method)\u001b[0m\n\u001b[1;32m    574\u001b[0m     x \u001b[39m=\u001b[39m x0 \u001b[39m+\u001b[39m h_vecs[i]\n\u001b[1;32m    575\u001b[0m     dx \u001b[39m=\u001b[39m x[i] \u001b[39m-\u001b[39m x0[i]  \u001b[39m# Recompute dx as exactly representable number.\u001b[39;00m\n\u001b[0;32m--> 576\u001b[0m     df \u001b[39m=\u001b[39m fun(x) \u001b[39m-\u001b[39m f0\n\u001b[1;32m    577\u001b[0m \u001b[39melif\u001b[39;00m method \u001b[39m==\u001b[39m \u001b[39m'\u001b[39m\u001b[39m3-point\u001b[39m\u001b[39m'\u001b[39m \u001b[39mand\u001b[39;00m use_one_sided[i]:\n\u001b[1;32m    578\u001b[0m     x1 \u001b[39m=\u001b[39m x0 \u001b[39m+\u001b[39m h_vecs[i]\n",
      "File \u001b[0;32m~/.pyenv/versions/3.11.3/envs/venv-ml/lib/python3.11/site-packages/scipy/optimize/_numdiff.py:456\u001b[0m, in \u001b[0;36mapprox_derivative.<locals>.fun_wrapped\u001b[0;34m(x)\u001b[0m\n\u001b[1;32m    455\u001b[0m \u001b[39mdef\u001b[39;00m \u001b[39mfun_wrapped\u001b[39m(x):\n\u001b[0;32m--> 456\u001b[0m     f \u001b[39m=\u001b[39m np\u001b[39m.\u001b[39matleast_1d(fun(x, \u001b[39m*\u001b[39;49margs, \u001b[39m*\u001b[39;49m\u001b[39m*\u001b[39;49mkwargs))\n\u001b[1;32m    457\u001b[0m     \u001b[39mif\u001b[39;00m f\u001b[39m.\u001b[39mndim \u001b[39m>\u001b[39m \u001b[39m1\u001b[39m:\n\u001b[1;32m    458\u001b[0m         \u001b[39mraise\u001b[39;00m \u001b[39mRuntimeError\u001b[39;00m(\u001b[39m\"\u001b[39m\u001b[39m`fun` return value has \u001b[39m\u001b[39m\"\u001b[39m\n\u001b[1;32m    459\u001b[0m                            \u001b[39m\"\u001b[39m\u001b[39mmore than 1 dimension.\u001b[39m\u001b[39m\"\u001b[39m)\n",
      "File \u001b[0;32m~/.pyenv/versions/3.11.3/envs/venv-ml/lib/python3.11/site-packages/scipy/optimize/_differentiable_functions.py:137\u001b[0m, in \u001b[0;36mScalarFunction.__init__.<locals>.fun_wrapped\u001b[0;34m(x)\u001b[0m\n\u001b[1;32m    133\u001b[0m \u001b[39mself\u001b[39m\u001b[39m.\u001b[39mnfev \u001b[39m+\u001b[39m\u001b[39m=\u001b[39m \u001b[39m1\u001b[39m\n\u001b[1;32m    134\u001b[0m \u001b[39m# Send a copy because the user may overwrite it.\u001b[39;00m\n\u001b[1;32m    135\u001b[0m \u001b[39m# Overwriting results in undefined behaviour because\u001b[39;00m\n\u001b[1;32m    136\u001b[0m \u001b[39m# fun(self.x) will change self.x, with the two no longer linked.\u001b[39;00m\n\u001b[0;32m--> 137\u001b[0m fx \u001b[39m=\u001b[39m fun(np\u001b[39m.\u001b[39;49mcopy(x), \u001b[39m*\u001b[39;49margs)\n\u001b[1;32m    138\u001b[0m \u001b[39m# Make sure the function returns a true scalar\u001b[39;00m\n\u001b[1;32m    139\u001b[0m \u001b[39mif\u001b[39;00m \u001b[39mnot\u001b[39;00m np\u001b[39m.\u001b[39misscalar(fx):\n",
      "Cell \u001b[0;32mIn[35], line 31\u001b[0m, in \u001b[0;36mloss\u001b[0;34m(Z_flat, y, kern_func, lam, Q_inv, shape)\u001b[0m\n\u001b[1;32m     27\u001b[0m \u001b[39m\u001b[39m\u001b[39m'''\u001b[39;00m\n\u001b[1;32m     28\u001b[0m \u001b[39mPrecise loss (no autograd/SGD)\u001b[39;00m\n\u001b[1;32m     29\u001b[0m \u001b[39m'''\u001b[39;00m\n\u001b[1;32m     30\u001b[0m Z \u001b[39m=\u001b[39m Z_flat\u001b[39m.\u001b[39mreshape(shape)\n\u001b[0;32m---> 31\u001b[0m \u001b[39mreturn\u001b[39;00m mmd(Z,y,kern_func) \u001b[39m+\u001b[39m regularizer(lam,Z,Q_inv)\n",
      "Cell \u001b[0;32mIn[35], line 16\u001b[0m, in \u001b[0;36mmmd\u001b[0;34m(X1, X2, kern_func)\u001b[0m\n\u001b[1;32m     14\u001b[0m X1_norm \u001b[39m=\u001b[39m kern_sum(X1,X1,kern_func)\n\u001b[1;32m     15\u001b[0m X2_norm \u001b[39m=\u001b[39m kern_sum(X2,X2,kern_func)\n\u001b[0;32m---> 16\u001b[0m cross_norm \u001b[39m=\u001b[39m kern_sum(X1,X2,kern_func)\n\u001b[1;32m     17\u001b[0m \u001b[39mreturn\u001b[39;00m X1_norm\u001b[39m+\u001b[39mX2_norm\u001b[39m-\u001b[39m\u001b[39m2\u001b[39m\u001b[39m*\u001b[39mcross_norm\n",
      "Cell \u001b[0;32mIn[35], line 8\u001b[0m, in \u001b[0;36mkern_sum\u001b[0;34m(X1, X2, kern_func)\u001b[0m\n\u001b[1;32m      6\u001b[0m n \u001b[39m=\u001b[39m X1\u001b[39m.\u001b[39mshape[\u001b[39m0\u001b[39m]\n\u001b[1;32m      7\u001b[0m m \u001b[39m=\u001b[39m X2\u001b[39m.\u001b[39mshape[\u001b[39m0\u001b[39m]\n\u001b[0;32m----> 8\u001b[0m \u001b[39mreturn\u001b[39;00m (\u001b[39m1\u001b[39m\u001b[39m/\u001b[39mn)\u001b[39m*\u001b[39m(\u001b[39m1\u001b[39m\u001b[39m/\u001b[39mm)\u001b[39m*\u001b[39m\u001b[39msum\u001b[39m( [\u001b[39msum\u001b[39;49m( [kern_func(X1[i],X2[j]) \u001b[39mfor\u001b[39;49;00m i \u001b[39min\u001b[39;49;00m \u001b[39mrange\u001b[39;49m(n)]) \u001b[39mfor\u001b[39;49;00m j \u001b[39min\u001b[39;49;00m \u001b[39mrange\u001b[39;49m(m)] )\n",
      "Cell \u001b[0;32mIn[35], line 8\u001b[0m, in \u001b[0;36m<listcomp>\u001b[0;34m(.0)\u001b[0m\n\u001b[1;32m      6\u001b[0m n \u001b[39m=\u001b[39m X1\u001b[39m.\u001b[39mshape[\u001b[39m0\u001b[39m]\n\u001b[1;32m      7\u001b[0m m \u001b[39m=\u001b[39m X2\u001b[39m.\u001b[39mshape[\u001b[39m0\u001b[39m]\n\u001b[0;32m----> 8\u001b[0m \u001b[39mreturn\u001b[39;00m (\u001b[39m1\u001b[39m\u001b[39m/\u001b[39mn)\u001b[39m*\u001b[39m(\u001b[39m1\u001b[39m\u001b[39m/\u001b[39mm)\u001b[39m*\u001b[39m\u001b[39msum\u001b[39m( [\u001b[39msum\u001b[39m( [kern_func(X1[i],X2[j]) \u001b[39mfor\u001b[39;49;00m i \u001b[39min\u001b[39;49;00m \u001b[39mrange\u001b[39;49m(n)]) \u001b[39mfor\u001b[39;00m j \u001b[39min\u001b[39;00m \u001b[39mrange\u001b[39m(m)] )\n",
      "Cell \u001b[0;32mIn[35], line 8\u001b[0m, in \u001b[0;36m<listcomp>\u001b[0;34m(.0)\u001b[0m\n\u001b[1;32m      6\u001b[0m n \u001b[39m=\u001b[39m X1\u001b[39m.\u001b[39mshape[\u001b[39m0\u001b[39m]\n\u001b[1;32m      7\u001b[0m m \u001b[39m=\u001b[39m X2\u001b[39m.\u001b[39mshape[\u001b[39m0\u001b[39m]\n\u001b[0;32m----> 8\u001b[0m \u001b[39mreturn\u001b[39;00m (\u001b[39m1\u001b[39m\u001b[39m/\u001b[39mn)\u001b[39m*\u001b[39m(\u001b[39m1\u001b[39m\u001b[39m/\u001b[39mm)\u001b[39m*\u001b[39m\u001b[39msum\u001b[39m( [\u001b[39msum\u001b[39m( [kern_func(X1[i],X2[j]) \u001b[39mfor\u001b[39;00m i \u001b[39min\u001b[39;00m \u001b[39mrange\u001b[39m(n)]) \u001b[39mfor\u001b[39;00m j \u001b[39min\u001b[39;00m \u001b[39mrange\u001b[39m(m)] )\n",
      "Cell \u001b[0;32mIn[34], line 18\u001b[0m, in \u001b[0;36mgaussian_kernel\u001b[0;34m(x, y, sigma)\u001b[0m\n\u001b[1;32m     14\u001b[0m \u001b[39mdef\u001b[39;00m \u001b[39mgaussian_kernel\u001b[39m(x, y, sigma\u001b[39m=\u001b[39m\u001b[39m1.0\u001b[39m):\n\u001b[1;32m     15\u001b[0m \u001b[39m    \u001b[39m\u001b[39m'''\u001b[39;00m\n\u001b[1;32m     16\u001b[0m \u001b[39m    Gaussian kernel function (defined on vectors; can be used for both scalar and operator kernels)\u001b[39;00m\n\u001b[1;32m     17\u001b[0m \u001b[39m    '''\u001b[39;00m\n\u001b[0;32m---> 18\u001b[0m     \u001b[39mreturn\u001b[39;00m np\u001b[39m.\u001b[39;49mexp(\u001b[39m-\u001b[39;49mnp\u001b[39m.\u001b[39;49mlinalg\u001b[39m.\u001b[39;49mnorm(x\u001b[39m-\u001b[39;49my)\u001b[39m*\u001b[39;49m\u001b[39m*\u001b[39;49m\u001b[39m2\u001b[39;49m \u001b[39m/\u001b[39;49m (\u001b[39m2\u001b[39;49m \u001b[39m*\u001b[39;49m sigma\u001b[39m*\u001b[39;49m\u001b[39m*\u001b[39;49m\u001b[39m2\u001b[39;49m))\n",
      "\u001b[0;31mKeyboardInterrupt\u001b[0m: "
     ]
    }
   ],
   "source": [
    "#Z\n",
    "print('Optimizing Z') #takes long-ass time\n",
    "X0 = np.ones((n,d))\n",
    "X0_flat = X0.flatten()\n",
    "Z_argmin_flat = minimize(loss, X0_flat, args=(ytr, gaussian_kernel, LAM, Q_inv, (n,d))) #MMD kernel also Guassian\n",
    "Z_star = Z_argmin_flat.x.reshape((n,d))"
   ]
  },
  {
   "cell_type": "code",
   "execution_count": null,
   "metadata": {},
   "outputs": [
    {
     "ename": "AttributeError",
     "evalue": "'PCA' object has no attribute 'shape'",
     "output_type": "error",
     "traceback": [
      "\u001b[0;31m---------------------------------------------------------------------------\u001b[0m",
      "\u001b[0;31mAttributeError\u001b[0m                            Traceback (most recent call last)",
      "Cell \u001b[0;32mIn[20], line 1\u001b[0m\n\u001b[0;32m----> 1\u001b[0m sample_generator(Xte, Xtr, Q_inv\u001b[39m=\u001b[39;49mQ_inv, Z\u001b[39m=\u001b[39;49mZ_star, d\u001b[39m=\u001b[39;49md)\n",
      "Cell \u001b[0;32mIn[15], line 5\u001b[0m, in \u001b[0;36msample_generator\u001b[0;34m(Xte, Xtr, Q_inv, Z, d)\u001b[0m\n\u001b[1;32m      1\u001b[0m \u001b[39mdef\u001b[39;00m \u001b[39msample_generator\u001b[39m(Xte,Xtr,Q_inv,Z,d):\n\u001b[1;32m      2\u001b[0m \u001b[39m    \u001b[39m\u001b[39m'''\u001b[39;00m\n\u001b[1;32m      3\u001b[0m \u001b[39m    Generate samples from latent space (send them through the map)\u001b[39;00m\n\u001b[1;32m      4\u001b[0m \u001b[39m    '''\u001b[39;00m\n\u001b[0;32m----> 5\u001b[0m     Q_test \u001b[39m=\u001b[39m generate_kern_matrix(Xte,Xtr,gaussian_kernel)\n\u001b[1;32m      6\u001b[0m     T \u001b[39m=\u001b[39m [Q_test \u001b[39m@\u001b[39m Q_inv \u001b[39m@\u001b[39m Z[:,j]\u001b[39m.\u001b[39mT \u001b[39mfor\u001b[39;00m j \u001b[39min\u001b[39;00m \u001b[39mrange\u001b[39m(d)]\n\u001b[1;32m      7\u001b[0m     \u001b[39mreturn\u001b[39;00m np\u001b[39m.\u001b[39marray(T)\n",
      "Cell \u001b[0;32mIn[13], line 6\u001b[0m, in \u001b[0;36mgenerate_kern_matrix\u001b[0;34m(X, Y, kern_func)\u001b[0m\n\u001b[1;32m      2\u001b[0m \u001b[39mdef\u001b[39;00m \u001b[39mgenerate_kern_matrix\u001b[39m(X, Y, kern_func):\n\u001b[1;32m      3\u001b[0m \u001b[39m    \u001b[39m\u001b[39m'''\u001b[39;00m\n\u001b[1;32m      4\u001b[0m \u001b[39m    Creates K(X,Y) for specific kernel function (\"Y\" is a data matrix, not labels)\u001b[39;00m\n\u001b[1;32m      5\u001b[0m \u001b[39m    '''\u001b[39;00m\n\u001b[0;32m----> 6\u001b[0m     n \u001b[39m=\u001b[39m X\u001b[39m.\u001b[39;49mshape[\u001b[39m0\u001b[39m]\n\u001b[1;32m      7\u001b[0m     m \u001b[39m=\u001b[39m Y\u001b[39m.\u001b[39mshape[\u001b[39m0\u001b[39m]\n\u001b[1;32m      8\u001b[0m     K \u001b[39m=\u001b[39m np\u001b[39m.\u001b[39mzeros((n, m))\n",
      "\u001b[0;31mAttributeError\u001b[0m: 'PCA' object has no attribute 'shape'"
     ]
    }
   ],
   "source": [
    "#The map\n",
    "print('Generating samples')\n",
    "T = sample_generator(Xte,Xtr,Q_inv,Z_star,d)\n",
    "\n",
    "print(T.shape)\n",
    "print(T)"
   ]
  },
  {
   "cell_type": "code",
   "execution_count": null,
   "metadata": {},
   "outputs": [],
   "source": []
  }
 ],
 "metadata": {
  "kernelspec": {
   "display_name": "AMATH-Python3",
   "language": "python",
   "name": "python3"
  },
  "language_info": {
   "codemirror_mode": {
    "name": "ipython",
    "version": 3
   },
   "file_extension": ".py",
   "mimetype": "text/x-python",
   "name": "python",
   "nbconvert_exporter": "python",
   "pygments_lexer": "ipython3",
   "version": "3.11.3"
  },
  "orig_nbformat": 4
 },
 "nbformat": 4,
 "nbformat_minor": 2
}
