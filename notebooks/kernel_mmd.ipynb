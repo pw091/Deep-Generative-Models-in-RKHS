{
 "cells": [
  {
   "cell_type": "code",
   "execution_count": null,
   "metadata": {},
   "outputs": [],
   "source": [
    "import autograd.numpy as np #to support SGD implementation\n",
    "import matplotlib.pyplot as plt\n",
    "import time\n",
    "import pandas as pd"
   ]
  },
  {
   "attachments": {},
   "cell_type": "markdown",
   "metadata": {},
   "source": [
    "MNIST Data"
   ]
  },
  {
   "cell_type": "code",
   "execution_count": null,
   "metadata": {},
   "outputs": [],
   "source": [
    "train_path = 'mnist_train.csv'\n",
    "test_path = 'mnist_test.csv'"
   ]
  },
  {
   "attachments": {},
   "cell_type": "markdown",
   "metadata": {},
   "source": [
    "Kernel MMD Generator"
   ]
  },
  {
   "cell_type": "code",
   "execution_count": null,
   "metadata": {},
   "outputs": [],
   "source": [
    "#Imports for MMD model\n",
    "from scipy.optimize import minimize"
   ]
  },
  {
   "cell_type": "code",
   "execution_count": null,
   "metadata": {},
   "outputs": [],
   "source": [
    "#Data Processing\n",
    "def csv_to_matrix(path: str) -> tuple[np.ndarray, np.ndarray]:\n",
    "    '''turns csv filepath string of Hw2 data into X,y arrays'''\n",
    "    df = pd.read_csv(path)\n",
    "    #X = df.iloc[:,1:] #all rows\n",
    "    #y = df.iloc[:,0] #all rows\n",
    "    X = df.iloc[:100,1:] #small sample\n",
    "    y = df.iloc[:100,0] #small sample\n",
    "    return np.array(X), np.array(y)"
   ]
  },
  {
   "cell_type": "code",
   "execution_count": null,
   "metadata": {},
   "outputs": [],
   "source": [
    "#Kernels\n",
    "def generate_kern_matrix(X, Y, kern_func):\n",
    "    '''creates K(X,Y) for specific kernel function (\"Y\" is a data matrix, not labels)'''\n",
    "    n = X.shape[0]\n",
    "    m = Y.shape[0]\n",
    "    K = np.zeros((n, m))\n",
    "    for i in range(n):\n",
    "        for j in range(m):\n",
    "            K[i, j] = kern_func(X[i], Y[j])\n",
    "    return K\n",
    "\n",
    "def gaussian_kernel(x, y, sigma=1.0):\n",
    "    '''gaussian kernel function (defined on vectors; can be used for both scalar and operator kernels)'''\n",
    "    return np.exp(-np.linalg.norm(x-y)**2 / (2 * sigma**2))"
   ]
  },
  {
   "cell_type": "code",
   "execution_count": null,
   "metadata": {},
   "outputs": [],
   "source": [
    "#Loss\n",
    "def kern_sum(X1,X2,kern_func):\n",
    "    '''helper func for MMD'''\n",
    "    n = X1.shape[0]\n",
    "    m = X2.shape[0]\n",
    "    return (1/n)*(1/m)*sum( [sum( [kern_func(X1[i],X2[j]) for i in range(n)]) for j in range(m)] )\n",
    "\n",
    "def mmd(X1,X2,kern_func):\n",
    "    '''scalar kernel MMD portion of the loss'''\n",
    "    X1_norm = kern_sum(X1,X1,kern_func)\n",
    "    X2_norm = kern_sum(X2,X2,kern_func)\n",
    "    cross_norm = kern_sum(X1,X2,kern_func)\n",
    "    return X1_norm+X2_norm-2*cross_norm\n",
    "\n",
    "def regularizer(lam,Z,Q_inv):\n",
    "    '''the operator-kernel regularizer'''\n",
    "    d = Z.shape[1]\n",
    "    return lam * sum( [ Z[:,j]@Q_inv@Z[:,j].T for j in range(d) ] )\n",
    "\n",
    "def loss(Z_flat,y,kern_func,lam,Q_inv,shape):\n",
    "    '''precise MMD (mean maximum discrepancy) loss (no autograd/SGD)'''\n",
    "    Z = Z_flat.reshape(shape)\n",
    "    return mmd(Z,y,kern_func) + regularizer(lam,Z,Q_inv)"
   ]
  },
  {
   "cell_type": "code",
   "execution_count": null,
   "metadata": {},
   "outputs": [],
   "source": [
    "def sample_generator(Xte,Xtr,Q_inv,Z,d):\n",
    "    '''generate samples from latent space (send them through the map)'''\n",
    "    Q_test = generate_kern_matrix(Xte,Xtr,gaussian_kernel)\n",
    "    T = [Q_test @ Q_inv @ Z[:,j].T for j in range(d)]\n",
    "    return np.array(T) #might need to be transposed"
   ]
  },
  {
   "cell_type": "code",
   "execution_count": null,
   "metadata": {},
   "outputs": [],
   "source": [
    "from sklearn.decomposition import PCA\n",
    "#Implementation\n",
    "LAM=0.01 #lambda for regularizer\n",
    "\n",
    "#Datasets\n",
    "Xtr,ytr = csv_to_matrix(train_path) #trainset\n",
    "Xte,yte = csv_to_matrix(test_path) #testset\n",
    "\n",
    "#Dim redux\n",
    "pca = PCA(n_components=10)\n",
    "Xtr = pca.fit_transform(Xtr)\n",
    "Xte = pca.transform(Xte)\n",
    "n,d = Xtr.shape #cached dimensions\n",
    "\n",
    "#Operator kernel (Gaussian)\n",
    "print('Generating kernel matrix')\n",
    "Q = generate_kern_matrix(Xtr, Xtr, gaussian_kernel)\n",
    "print('Inverting said matrix')\n",
    "Q_inv = np.linalg.inv(Q)\n",
    "print('K(X,X) inverted')"
   ]
  },
  {
   "cell_type": "code",
   "execution_count": null,
   "metadata": {},
   "outputs": [],
   "source": [
    "#Z (intermediate optimization variable)\n",
    "print('Optimizing Z')\n",
    "X0 = np.ones((n,d))\n",
    "X0_flat = X0.flatten()\n",
    "Z_argmin_flat = minimize(loss, X0_flat, args=(ytr, gaussian_kernel, LAM, Q_inv, (n,d))) #MMD kernel also Guassian\n",
    "Z_star = Z_argmin_flat.x.reshape((n,d))"
   ]
  },
  {
   "cell_type": "code",
   "execution_count": null,
   "metadata": {},
   "outputs": [],
   "source": [
    "#The map\n",
    "print('Generating samples')\n",
    "T = sample_generator(Xte,Xtr,Q_inv,Z_star,d)\n",
    "\n",
    "print(T.shape)\n",
    "print(T)"
   ]
  }
 ],
 "metadata": {
  "kernelspec": {
   "display_name": "AMATH-Python3",
   "language": "python",
   "name": "python3"
  },
  "language_info": {
   "codemirror_mode": {
    "name": "ipython",
    "version": 3
   },
   "file_extension": ".py",
   "mimetype": "text/x-python",
   "name": "python",
   "nbconvert_exporter": "python",
   "pygments_lexer": "ipython3",
   "version": "3.11.3"
  },
  "orig_nbformat": 4
 },
 "nbformat": 4,
 "nbformat_minor": 2
}
