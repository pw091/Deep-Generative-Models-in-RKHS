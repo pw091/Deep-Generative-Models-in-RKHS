{
 "cells": [
  {
   "attachments": {},
   "cell_type": "markdown",
   "metadata": {},
   "source": [
    "**cVAE (conditional)**"
   ]
  },
  {
   "attachments": {},
   "cell_type": "markdown",
   "metadata": {},
   "source": [
    "General Imports"
   ]
  },
  {
   "cell_type": "code",
   "execution_count": 167,
   "metadata": {},
   "outputs": [],
   "source": [
    "import numpy as np\n",
    "import torch\n",
    "from torch.utils.data import Dataset, DataLoader\n",
    "import pandas as pd\n",
    "import torchvision.transforms as transforms\n",
    "import torch.nn as nn\n",
    "import torch.nn.functional as F\n",
    "import matplotlib.pyplot as plt\n",
    "import time"
   ]
  },
  {
   "attachments": {},
   "cell_type": "markdown",
   "metadata": {},
   "source": [
    "Global Constants"
   ]
  },
  {
   "cell_type": "code",
   "execution_count": 168,
   "metadata": {},
   "outputs": [],
   "source": [
    "train_path = '/home/patrick/Documents/AMATH_563/HW/2/MNIST/mnist_train.csv'\n",
    "test_path = '/home/patrick/Documents/AMATH_563/HW/2/MNIST/mnist_test.csv'\n",
    "\n",
    "LATENT_DIM = 20"
   ]
  },
  {
   "attachments": {},
   "cell_type": "markdown",
   "metadata": {},
   "source": [
    "Data (TODO: ONE-HOT!)"
   ]
  },
  {
   "cell_type": "code",
   "execution_count": 169,
   "metadata": {},
   "outputs": [],
   "source": [
    "class MNISTDataset(Dataset):\n",
    "    def __init__(self, csv_file, label=None): #label filters input (label!=None is a VAE on unlabeled data)\n",
    "        data = pd.read_csv(csv_file)\n",
    "        self.X = data.drop('label', axis=1).values / 255.  # normalize pixel values\n",
    "        self.y = torch.tensor(data['label'].values)\n",
    "        self.y_one_hot = F.one_hot(self.y, num_classes=10).float()  # one-hot encoding\n",
    "\n",
    "    def __len__(self):\n",
    "        return len(self.X)\n",
    "\n",
    "    def __getitem__(self, idx):\n",
    "        return torch.FloatTensor(self.X[idx]), self.y_one_hot[idx]\n",
    "\n",
    "# Load data from csv files (Remove 'label' for entire dataset)\n",
    "#This is a remnant from my VAE adaptation; will be polished\n",
    "train_data = MNISTDataset(train_path, label=None)\n",
    "test_data = MNISTDataset(test_path,label=None)\n",
    "\n",
    "# Create data loaders\n",
    "batch_size = 128\n",
    "train_loader = DataLoader(train_data, batch_size=batch_size, shuffle=True)\n",
    "test_loader = DataLoader(test_data, batch_size=batch_size, shuffle=True)"
   ]
  },
  {
   "attachments": {},
   "cell_type": "markdown",
   "metadata": {},
   "source": [
    "Model"
   ]
  },
  {
   "cell_type": "code",
   "execution_count": 170,
   "metadata": {},
   "outputs": [],
   "source": [
    "class CVAE(nn.Module):\n",
    "    def __init__(self):\n",
    "        super(CVAE, self).__init__()\n",
    "\n",
    "        self.fc1 = nn.Linear(784 + 10, 400)  # take both data and labels\n",
    "        self.fc21 = nn.Linear(400, 20)\n",
    "        self.fc22 = nn.Linear(400, 20)\n",
    "        self.fc3 = nn.Linear(20 + 10, 400)  # take both latent variable and labels\n",
    "        self.fc4 = nn.Linear(400, 784)\n",
    "\n",
    "    def encode(self, x, y):\n",
    "        h1 = F.relu(self.fc1(torch.cat((x, y), axis=1)))\n",
    "        return self.fc21(h1), self.fc22(h1)\n",
    "\n",
    "    def reparameterize(self, mu, logvar):\n",
    "        std = torch.exp(0.5 * logvar)\n",
    "        eps = torch.randn_like(std)\n",
    "        return mu + eps * std\n",
    "\n",
    "    def decode(self, z, y):\n",
    "        h3 = F.relu(self.fc3(torch.cat((z, y), axis=1)))\n",
    "        return torch.sigmoid(self.fc4(h3))\n",
    "\n",
    "    def forward(self, x, y):\n",
    "        mu, logvar = self.encode(x.view(-1, 784), y)\n",
    "        z = self.reparameterize(mu, logvar)\n",
    "        return self.decode(z, y), mu, logvar"
   ]
  },
  {
   "attachments": {},
   "cell_type": "markdown",
   "metadata": {},
   "source": [
    "Loss (ELBO)"
   ]
  },
  {
   "cell_type": "code",
   "execution_count": 171,
   "metadata": {},
   "outputs": [],
   "source": [
    "def loss_function(recon_x, x, mu, logvar):\n",
    "    BCE = F.binary_cross_entropy(recon_x, x.view(-1, 784), reduction='sum')\n",
    "    KLD = -0.5 * torch.sum(1 + logvar - mu.pow(2) - logvar.exp())\n",
    "    return BCE + KLD"
   ]
  },
  {
   "attachments": {},
   "cell_type": "markdown",
   "metadata": {},
   "source": [
    "Training Loop"
   ]
  },
  {
   "cell_type": "code",
   "execution_count": 172,
   "metadata": {},
   "outputs": [],
   "source": [
    "def train_vae(vae, epochs):\n",
    "    start = time.time() #progress\n",
    "    num_iterations = int(np.ceil(len(train_data) / batch_size))\n",
    "    print('Total batches per epoch: {}'.format(num_iterations))\n",
    "    epoch_losses = [] #tracking convergence\n",
    "    for epoch in range(1, epochs + 1):\n",
    "        print('Epoch {}'.format(epoch)) #progress\n",
    "        vae.train()\n",
    "        train_loss = 0\n",
    "        for batch_idx, (data, labels) in enumerate(train_loader):\n",
    "            data, labels = data, labels\n",
    "            optimizer.zero_grad()\n",
    "            recon_batch, mu, logvar = vae(data, labels)\n",
    "            loss = loss_function(recon_batch, data, mu, logvar)\n",
    "            loss.backward()\n",
    "            train_loss += loss.item()\n",
    "            optimizer.step()\n",
    "        end = time.time() #progress\n",
    "        print('Epoch complete in {} s'.format(end-start))\n",
    "        avg_loss = train_loss / len(train_loader.dataset)\n",
    "        epoch_losses.append(avg_loss)\n",
    "        print('====> Epoch: {} Average loss: {:.4f}'.format(epoch, avg_loss))\n",
    "    end = time.time()\n",
    "    print('Training complete in {} s'.format(end-start))\n",
    "    return epoch_losses"
   ]
  },
  {
   "attachments": {},
   "cell_type": "markdown",
   "metadata": {},
   "source": [
    "Sample Generation"
   ]
  },
  {
   "cell_type": "code",
   "execution_count": 173,
   "metadata": {},
   "outputs": [],
   "source": [
    "def generate_sample(vae, label):\n",
    "    with torch.no_grad():\n",
    "        z = torch.randn(1, 20)\n",
    "        label_one_hot = F.one_hot(torch.tensor([label]), num_classes=10).float()\n",
    "        sample = vae.decode(z, label_one_hot)\n",
    "        sample = sample.view(28, 28).cpu().numpy()\n",
    "\n",
    "        plt.figure(figsize=(2, 2))\n",
    "        plt.imshow(sample, cmap='gray')\n",
    "        plt.axis('off')\n",
    "        plt.show()"
   ]
  },
  {
   "attachments": {},
   "cell_type": "markdown",
   "metadata": {},
   "source": [
    "Implementation - Training"
   ]
  },
  {
   "cell_type": "code",
   "execution_count": 174,
   "metadata": {},
   "outputs": [
    {
     "name": "stdout",
     "output_type": "stream",
     "text": [
      "Total batches per epoch: 469\n",
      "Epoch 1\n",
      "Epoch complete in 6.269151210784912 s\n",
      "====> Epoch: 1 Average loss: 162.8004\n",
      "Epoch 2\n",
      "Epoch complete in 13.204497337341309 s\n",
      "====> Epoch: 2 Average loss: 120.0167\n",
      "Epoch 3\n",
      "Epoch complete in 20.58706569671631 s\n",
      "====> Epoch: 3 Average loss: 112.3673\n",
      "Epoch 4\n",
      "Epoch complete in 27.949589014053345 s\n",
      "====> Epoch: 4 Average loss: 109.0247\n",
      "Epoch 5\n",
      "Epoch complete in 35.379642486572266 s\n",
      "====> Epoch: 5 Average loss: 107.0120\n",
      "Epoch 6\n",
      "Epoch complete in 42.84168791770935 s\n",
      "====> Epoch: 6 Average loss: 105.5484\n",
      "Epoch 7\n",
      "Epoch complete in 50.31033635139465 s\n",
      "====> Epoch: 7 Average loss: 104.5246\n",
      "Epoch 8\n",
      "Epoch complete in 58.4078893661499 s\n",
      "====> Epoch: 8 Average loss: 103.7172\n",
      "Epoch 9\n",
      "Epoch complete in 66.61903214454651 s\n",
      "====> Epoch: 9 Average loss: 103.0928\n",
      "Epoch 10\n",
      "Epoch complete in 74.70296025276184 s\n",
      "====> Epoch: 10 Average loss: 102.4925\n",
      "Training complete in 74.70310997962952 s\n"
     ]
    },
    {
     "data": {
      "image/png": "[encoded data removed]",
      "text/plain": [
       "<Figure size 640x480 with 1 Axes>"
      ]
     },
     "metadata": {},
     "output_type": "display_data"
    }
   ],
   "source": [
    "cvae = CVAE()\n",
    "optimizer = torch.optim.Adam(cvae.parameters(), lr=1e-3)\n",
    "\n",
    "EPOCHS=10\n",
    "losses = train_vae(cvae, epochs=EPOCHS)\n",
    "plt.plot(range(EPOCHS),losses)\n",
    "plt.xlabel('Epoch')\n",
    "plt.ylabel('Average loss')\n",
    "plt.show()"
   ]
  },
  {
   "attachments": {},
   "cell_type": "markdown",
   "metadata": {},
   "source": [
    "Implementation - Sample Generation"
   ]
  },
  {
   "cell_type": "code",
   "execution_count": 161,
   "metadata": {},
   "outputs": [
    {
     "data": {
      "image/png": "[encoded data removed]",
      "text/plain": [
       "<Figure size 200x200 with 1 Axes>"
      ]
     },
     "metadata": {},
     "output_type": "display_data"
    }
   ],
   "source": [
    "generate_sample(cvae,label=9)"
   ]
  }
 ],
 "metadata": {
  "kernelspec": {
   "display_name": "AMATH-Python3",
   "language": "python",
   "name": "python3"
  },
  "language_info": {
   "codemirror_mode": {
    "name": "ipython",
    "version": 3
   },
   "file_extension": ".py",
   "mimetype": "text/x-python",
   "name": "python",
   "nbconvert_exporter": "python",
   "pygments_lexer": "ipython3",
   "version": "3.10.7"
  },
  "orig_nbformat": 4
 },
 "nbformat": 4,
 "nbformat_minor": 2
}
